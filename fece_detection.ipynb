{
 "cells": [
  {
   "cell_type": "code",
   "execution_count": 1,
   "id": "3bcfc8c5",
   "metadata": {},
   "outputs": [],
   "source": [
    "import cv2\n",
    "\n",
    "face_detect = cv2.CascadeClassifier(r\"E:\\haar cascade files\\haarcascade_frontalface_default.xml\")\n",
    "\n",
    "eye_detect = cv2.CascadeClassifier(r\"E:\\haar cascade files\\haarcascade_eye.xml\")\n",
    "\n",
    "smile_detect = cv2.CascadeClassifier(r\"E:\\haar cascade files\\haarcascade_smile.xml\")"
   ]
  },
  {
   "cell_type": "code",
   "execution_count": null,
   "id": "31b77acb",
   "metadata": {},
   "outputs": [],
   "source": [
    "stream = cv2.VideoCapture(0)\n",
    "\n",
    "while True:\n",
    "    \n",
    "    st, frame = stream.read()\n",
    "\n",
    "    gray_frame = cv2.cvtColor(frame,cv2.COLOR_BGR2GRAY)\n",
    "\n",
    "############# Face Detect\n",
    "    \n",
    "    faces = face_detect.detectMultiScale(gray_frame,1.3,5)\n",
    "\n",
    "    for (x,y,w,h) in faces:\n",
    "        cv2.rectangle(frame,(x,y),(x+w,y+h),(0,255,0),2)\n",
    "        face_only = frame[y:y+h,x:x+w]\n",
    "        \n",
    "############# eye detect        \n",
    "\n",
    "        eyes = eye_detect.detectMultiScale(face_only)\n",
    "        for (ex,ey,ew,eh) in eyes:\n",
    "            eye_x = int((ex+(ew/2))) - 10\n",
    "            eye_y = int((ey+(eh/2))) + 10\n",
    "            cv2.putText(face_only,\"O\",(eye_x,eye_y),cv2.FONT_HERSHEY_COMPLEX,1.5,(0,0,255),5)\n",
    "\n",
    "############ Smile Detect\n",
    "        smiles = smile_detect.detectMultiScale(face_only,1.3,10)\n",
    "        for (sx,sy,sw,sh) in smiles:\n",
    "             cv2.rectangle(face_only,(sx,sy),(sx+sw,sy+sh),(255,0,0),2)\n",
    "        \n",
    "\n",
    "\n",
    "############# Show  \n",
    "    cv2.imshow(\"live stream\", frame)\n",
    "    \n",
    "    if cv2.waitKey(50) & 0xff == ord(\"x\"):\n",
    "\n",
    "        break\n",
    "\n",
    "stream.release()\n",
    "\n",
    "cv2.destroyAllWindows()"
   ]
  },
  {
   "cell_type": "code",
   "execution_count": null,
   "id": "7cffc049",
   "metadata": {},
   "outputs": [],
   "source": []
  },
  {
   "cell_type": "code",
   "execution_count": null,
   "id": "13c6aad0",
   "metadata": {},
   "outputs": [],
   "source": []
  }
 ],
 "metadata": {
  "kernelspec": {
   "display_name": "Python 3 (ipykernel)",
   "language": "python",
   "name": "python3"
  },
  "language_info": {
   "codemirror_mode": {
    "name": "ipython",
    "version": 3
   },
   "file_extension": ".py",
   "mimetype": "text/x-python",
   "name": "python",
   "nbconvert_exporter": "python",
   "pygments_lexer": "ipython3",
   "version": "3.9.7"
  }
 },
 "nbformat": 4,
 "nbformat_minor": 5
}
